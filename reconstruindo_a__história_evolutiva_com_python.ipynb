{
  "nbformat": 4,
  "nbformat_minor": 0,
  "metadata": {
    "colab": {
      "name": "reconstruindo_a _história_evolutiva_com_python.ipynb",
      "provenance": [],
      "authorship_tag": "ABX9TyOUE/y7KFoeZylEfoBowEM6",
      "include_colab_link": true
    },
    "kernelspec": {
      "name": "python3",
      "display_name": "Python 3"
    },
    "language_info": {
      "name": "python"
    }
  },
  "cells": [
    {
      "cell_type": "markdown",
      "metadata": {
        "id": "view-in-github",
        "colab_type": "text"
      },
      "source": [
        "<a href=\"https://colab.research.google.com/github/AndreLuis0106/estudando_bioinformatica/blob/reconstruindo_a__hist%C3%B3ria_evolutiva_com_python/reconstruindo_a__hist%C3%B3ria_evolutiva_com_python.ipynb\" target=\"_parent\"><img src=\"https://colab.research.google.com/assets/colab-badge.svg\" alt=\"Open In Colab\"/></a>"
      ]
    },
    {
      "cell_type": "markdown",
      "source": [
        "Link do vídeo: https://www.youtube.com/watch?v=P1jYiroabJU"
      ],
      "metadata": {
        "id": "uNhsjEiQNmSr"
      }
    },
    {
      "cell_type": "markdown",
      "source": [
        "Esse programa reconstroi a história evolutiva entre 2 sequências, alinhando-as e depois comparandoas com a de um grupo externo"
      ],
      "metadata": {
        "id": "ZOK1BZoOoW7l"
      }
    },
    {
      "cell_type": "code",
      "execution_count": 20,
      "metadata": {
        "id": "hLJCukxVNdT5"
      },
      "outputs": [],
      "source": [
        "humano = \"AGTAATATTCTTTATGACAATTCATTTGATTA\"\n",
        "chimpanze = \"AATAATATTCTTTATGACAATTCATTTGATTT\""
      ]
    },
    {
      "cell_type": "code",
      "source": [
        "lista_sequencias = [humano, chimpanze]"
      ],
      "metadata": {
        "id": "mI70SLvfUvZf"
      },
      "execution_count": 21,
      "outputs": []
    },
    {
      "cell_type": "code",
      "source": [
        "#Cria a matriz de zeros para o alinhamento\n",
        "def cria_matriz(lista):\n",
        "  matriz = {}#Dicionário\n",
        "  tamanho_sequencia = len(lista[0])\n",
        "\n",
        "  for base in \"ACTG\": \n",
        "    matriz[base] =[0] * tamanho_sequencia\n",
        "\n",
        "  return matriz"
      ],
      "metadata": {
        "id": "JbZMcggEU4UW"
      },
      "execution_count": 22,
      "outputs": []
    },
    {
      "cell_type": "code",
      "source": [
        "matriz_zeros = cria_matriz(lista_sequencias)\n",
        "for linha in matriz_zeros.items():\n",
        "  print(linha)"
      ],
      "metadata": {
        "colab": {
          "base_uri": "https://localhost:8080/"
        },
        "id": "0_L1TdpkWJ5v",
        "outputId": "6f8fdb30-aef9-4bf2-d7a1-40188c7c618d"
      },
      "execution_count": 23,
      "outputs": [
        {
          "output_type": "stream",
          "name": "stdout",
          "text": [
            "('A', [0, 0, 0, 0, 0, 0, 0, 0, 0, 0, 0, 0, 0, 0, 0, 0, 0, 0, 0, 0, 0, 0, 0, 0, 0, 0, 0, 0, 0, 0, 0, 0])\n",
            "('C', [0, 0, 0, 0, 0, 0, 0, 0, 0, 0, 0, 0, 0, 0, 0, 0, 0, 0, 0, 0, 0, 0, 0, 0, 0, 0, 0, 0, 0, 0, 0, 0])\n",
            "('T', [0, 0, 0, 0, 0, 0, 0, 0, 0, 0, 0, 0, 0, 0, 0, 0, 0, 0, 0, 0, 0, 0, 0, 0, 0, 0, 0, 0, 0, 0, 0, 0])\n",
            "('G', [0, 0, 0, 0, 0, 0, 0, 0, 0, 0, 0, 0, 0, 0, 0, 0, 0, 0, 0, 0, 0, 0, 0, 0, 0, 0, 0, 0, 0, 0, 0, 0])\n"
          ]
        }
      ]
    },
    {
      "cell_type": "code",
      "source": [
        "#Prenche a matriz com a frequência de nucleotídeo em cada posição\n",
        "def preenche_matriz(lista,matriz_zeros):\n",
        "  tamanho_sequencia = len(lista[0])\n",
        "  for seq in lista:\n",
        "    for pos in range(tamanho_sequencia):\n",
        "      base = seq[pos]\n",
        "      matriz_zeros[base][pos] += 1\n",
        "\n",
        "  return matriz_zeros"
      ],
      "metadata": {
        "id": "wQVikKsxXSI4"
      },
      "execution_count": 24,
      "outputs": []
    },
    {
      "cell_type": "code",
      "source": [
        "matriz = preenche_matriz(lista_sequencias,matriz_zeros)\n",
        "\n",
        "for linha in matriz.items():\n",
        "  print(linha)"
      ],
      "metadata": {
        "colab": {
          "base_uri": "https://localhost:8080/"
        },
        "id": "sgwb2YdxYCFJ",
        "outputId": "0d059b1f-e1a4-4c76-f636-154694c88dd2"
      },
      "execution_count": 25,
      "outputs": [
        {
          "output_type": "stream",
          "name": "stdout",
          "text": [
            "('A', [2, 1, 0, 2, 2, 0, 2, 0, 0, 0, 0, 0, 0, 2, 0, 0, 2, 0, 2, 2, 0, 0, 0, 2, 0, 0, 0, 0, 2, 0, 0, 1])\n",
            "('C', [0, 0, 0, 0, 0, 0, 0, 0, 0, 2, 0, 0, 0, 0, 0, 0, 0, 2, 0, 0, 0, 0, 2, 0, 0, 0, 0, 0, 0, 0, 0, 0])\n",
            "('T', [0, 0, 2, 0, 0, 2, 0, 2, 2, 0, 2, 2, 2, 0, 2, 0, 0, 0, 0, 0, 2, 2, 0, 0, 2, 2, 2, 0, 0, 2, 2, 1])\n",
            "('G', [0, 1, 0, 0, 0, 0, 0, 0, 0, 0, 0, 0, 0, 0, 0, 2, 0, 0, 0, 0, 0, 0, 0, 0, 0, 0, 0, 2, 0, 0, 0, 0])\n"
          ]
        }
      ]
    },
    {
      "cell_type": "code",
      "source": [
        "#No vídeo fala que o grupo externo tem que ser uma especie proxima das outras sequências\n",
        "#No caso pegou de exemplo o do gorila\n",
        "grupo_externo = \"GATAATAGTCTATATCGCAACTCATTTGATTA\""
      ],
      "metadata": {
        "id": "VCWabrnejjwC"
      },
      "execution_count": 26,
      "outputs": []
    },
    {
      "cell_type": "code",
      "source": [
        "lista_sequencias.append(grupo_externo)"
      ],
      "metadata": {
        "id": "XEgOQcUpj475"
      },
      "execution_count": 27,
      "outputs": []
    },
    {
      "cell_type": "code",
      "source": [
        "matriz_zeros = cria_matriz(lista_sequencias)\n",
        "\n",
        "matriz = preenche_matriz(lista_sequencias, matriz_zeros)\n",
        "\n",
        "for linha in matriz.items():\n",
        "  print(linha)"
      ],
      "metadata": {
        "colab": {
          "base_uri": "https://localhost:8080/"
        },
        "id": "GEmQznl_kM3v",
        "outputId": "d2a79661-9fed-423d-df6f-d990dd4771fc"
      },
      "execution_count": 32,
      "outputs": [
        {
          "output_type": "stream",
          "name": "stdout",
          "text": [
            "('A', [2, 2, 0, 3, 3, 0, 3, 0, 0, 0, 0, 1, 0, 3, 0, 0, 2, 0, 3, 3, 0, 0, 0, 3, 0, 0, 0, 0, 3, 0, 0, 2])\n",
            "('C', [0, 0, 0, 0, 0, 0, 0, 0, 0, 3, 0, 0, 0, 0, 0, 1, 0, 3, 0, 0, 1, 0, 3, 0, 0, 0, 0, 0, 0, 0, 0, 0])\n",
            "('T', [0, 0, 3, 0, 0, 3, 0, 2, 3, 0, 3, 2, 3, 0, 3, 0, 0, 0, 0, 0, 2, 3, 0, 0, 3, 3, 3, 0, 0, 3, 3, 1])\n",
            "('G', [1, 1, 0, 0, 0, 0, 0, 1, 0, 0, 0, 0, 0, 0, 0, 2, 1, 0, 0, 0, 0, 0, 0, 0, 0, 0, 0, 3, 0, 0, 0, 0])\n"
          ]
        }
      ]
    },
    {
      "cell_type": "code",
      "source": [
        "#Com as 3 sequências alinhadas, essa função conta qual o nucleotídeo mais frequente e coloca numa string\n",
        "def sequencia_ancestral(matriz):\n",
        "  seq_ancestral = \"\"\n",
        "  maior = 0\n",
        "  tam_seq = len(matriz[\"A\"])\n",
        "\n",
        "  for pos in range(tam_seq):\n",
        "    for base in \"ACTG\":\n",
        "      valor_atual = matriz[base][pos]\n",
        "      if valor_atual > maior:\n",
        "        maior = valor_atual\n",
        "        base_mais_frequente = base\n",
        "\n",
        "    seq_ancestral += base_mais_frequente\n",
        "    maior = 0\n",
        "\n",
        "  return seq_ancestral"
      ],
      "metadata": {
        "id": "16qweU6Okm_c"
      },
      "execution_count": 34,
      "outputs": []
    },
    {
      "cell_type": "code",
      "source": [
        "ancestral = sequencia_ancestral(matriz)"
      ],
      "metadata": {
        "colab": {
          "base_uri": "https://localhost:8080/",
          "height": 35
        },
        "id": "Gi11l3n9l6eZ",
        "outputId": "7de02813-40f0-4cbf-dce8-3387ef569d1c"
      },
      "execution_count": 35,
      "outputs": [
        {
          "output_type": "execute_result",
          "data": {
            "text/plain": [
              "'AATAATATTCTTTATGACAATTCATTTGATTA'"
            ],
            "application/vnd.google.colaboratory.intrinsic+json": {
              "type": "string"
            }
          },
          "metadata": {},
          "execution_count": 35
        }
      ]
    },
    {
      "cell_type": "code",
      "source": [
        "print(\"Humano   :\",humano)\n",
        "print(\"Chimpanzé:\",chimpanze)\n",
        "print(\"Ancestral:\", ancestral)"
      ],
      "metadata": {
        "colab": {
          "base_uri": "https://localhost:8080/"
        },
        "id": "zoOVQ6SYmEIg",
        "outputId": "cb1daa08-9acc-49ad-c730-128e6a8470a4"
      },
      "execution_count": 37,
      "outputs": [
        {
          "output_type": "stream",
          "name": "stdout",
          "text": [
            "Humano   : AGTAATATTCTTTATGACAATTCATTTGATTA\n",
            "Chimpanzé: AATAATATTCTTTATGACAATTCATTTGATTT\n",
            "Ancestral: AATAATATTCTTTATGACAATTCATTTGATTA\n"
          ]
        }
      ]
    }
  ]
}